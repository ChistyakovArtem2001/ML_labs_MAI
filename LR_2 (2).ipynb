{
  "nbformat": 4,
  "nbformat_minor": 0,
  "metadata": {
    "colab": {
      "provenance": []
    },
    "kernelspec": {
      "name": "python3",
      "display_name": "Python 3"
    },
    "language_info": {
      "name": "python"
    }
  },
  "cells": [
    {
      "cell_type": "markdown",
      "source": [
        "# Лабораторная работа №2\n",
        "\n",
        "## Глобальная оптимизация и метаэврестические алгоритмы\n",
        "\n",
        "\n",
        "*   В Pygmo запрогроммировать две своих тестовых функции и найти их оптимум 3 разными алгоритмами доступными в библиотеке и получить таблицу сравнения\n",
        "\n",
        "\n",
        "---\n",
        "\n",
        "\n",
        "\n",
        "\n"
      ],
      "metadata": {
        "id": "IIH6Ig1cONMN"
      }
    },
    {
      "cell_type": "code",
      "execution_count": null,
      "metadata": {
        "colab": {
          "base_uri": "https://localhost:8080/"
        },
        "id": "RdcCsKD5Nx_V",
        "outputId": "ed08ef04-878e-462b-a202-2b4e8a9230d3"
      },
      "outputs": [
        {
          "output_type": "stream",
          "name": "stdout",
          "text": [
            "Requirement already satisfied: pygmo in /usr/local/lib/python3.10/dist-packages (2.19.5)\n",
            "Requirement already satisfied: numpy in /usr/local/lib/python3.10/dist-packages (from pygmo) (1.23.5)\n",
            "Requirement already satisfied: cloudpickle in /usr/local/lib/python3.10/dist-packages (from pygmo) (2.2.1)\n",
            "Requirement already satisfied: scipy in /usr/local/lib/python3.10/dist-packages (from pygmo) (1.11.4)\n"
          ]
        }
      ],
      "source": [
        "!pip3 install pygmo\n"
      ]
    },
    {
      "cell_type": "markdown",
      "source": [
        "Импорт необходимых библиотек"
      ],
      "metadata": {
        "id": "0wHTWMQdAVdO"
      }
    },
    {
      "cell_type": "code",
      "source": [
        "from tabulate import tabulate\n",
        "import pandas as pd\n",
        "import pygmo as pg\n",
        "import numpy as np"
      ],
      "metadata": {
        "id": "xIYjrPqMHx3o"
      },
      "execution_count": null,
      "outputs": []
    },
    {
      "cell_type": "markdown",
      "source": [
        "Тестовые функции для оптимизации\n",
        "\n",
        "\n",
        "1.   Функция трехгорбого верблюда\n",
        "2.   Функция Бута\n",
        "\n",
        "\n",
        "\n",
        "*   function - функция\n",
        "*   get_bounds - область определения\n",
        "*   get_min - глобальный минимум и значения в нем\n",
        "*   gradient - градиент функции\n",
        "\n",
        "\n",
        "\n"
      ],
      "metadata": {
        "id": "3DBaPD29Aajc"
      }
    },
    {
      "cell_type": "code",
      "source": [
        "class Matyas:\n",
        "    @staticmethod\n",
        "    def fitness(x):\n",
        "        return [0.26 * (x[0] ** 2 + x[1] ** 2) - 0.48 * x[1] * x[0]]\n",
        "\n",
        "    @staticmethod\n",
        "    def get_bounds():\n",
        "        return np.array([[-10, -10], [10, 10]])\n",
        "\n",
        "    @staticmethod\n",
        "    def get_min():\n",
        "        return np.array([0., 0., 0.])"
      ],
      "metadata": {
        "id": "gyEBAknvH06j"
      },
      "execution_count": null,
      "outputs": []
    },
    {
      "cell_type": "code",
      "source": [
        "class Byta:\n",
        "    @staticmethod\n",
        "    def fitness(x):\n",
        "        return [(x[0] + 2 * x[1] - 7) ** 2 + (2 * x[0] + x[1] - 5) ** 2]\n",
        "\n",
        "    @staticmethod\n",
        "    def get_bounds():\n",
        "        return np.array([[-10, -10], [10, 10]])\n",
        "\n",
        "    @staticmethod\n",
        "    def get_min():\n",
        "        return np.array([1., 3., 0.])"
      ],
      "metadata": {
        "id": "mLM3bgr7H3PU"
      },
      "execution_count": null,
      "outputs": []
    },
    {
      "cell_type": "markdown",
      "source": [
        "Функция для получения популяции алгоритма"
      ],
      "metadata": {
        "id": "ba7tIijRBWS0"
      }
    },
    {
      "cell_type": "code",
      "source": [
        "def get_algo_pop(prob, algo_f, pops=1000, **params):\n",
        "    pop = pg.population(prob, pops)\n",
        "    algo = pg.algorithm(algo_f(**params))\n",
        "    pop = algo.evolve(pop)\n",
        "    return algo, pop"
      ],
      "metadata": {
        "id": "sruwPO9QH48W"
      },
      "execution_count": null,
      "outputs": []
    },
    {
      "cell_type": "markdown",
      "source": [
        "Функция для запуска алгоритма оптимизации и получения средних значений"
      ],
      "metadata": {
        "id": "N7t7hPw1BDpc"
      }
    },
    {
      "cell_type": "code",
      "source": [
        "def run_algorithm(problem, algorithm, num_generations=60, num_trials=10):\n",
        "    x_sum, y_sum, f_sum = 0.0, 0.0, 0.0\n",
        "\n",
        "    for _ in range(num_trials):\n",
        "        algo, pop = get_algo_pop(problem, algorithm, gen=num_generations)\n",
        "        x_sum += pop.champion_x[0]\n",
        "        y_sum += pop.champion_x[1]\n",
        "        f_sum += pop.champion_f\n",
        "\n",
        "    return x_sum / num_trials, y_sum / num_trials, f_sum / num_trials\n"
      ],
      "metadata": {
        "id": "crtyIwNYH66t"
      },
      "execution_count": null,
      "outputs": []
    },
    {
      "cell_type": "markdown",
      "source": [
        "Функция для создания и вывода табличных данных"
      ],
      "metadata": {
        "id": "6ly6ZJKhA_qO"
      }
    },
    {
      "cell_type": "code",
      "source": [
        "def create_table(method_names, values, function_name):\n",
        "    headers = ['Algorithm', 'X', 'Y', 'F']\n",
        "    table_data = [[method_names[i], values[i][0], values[i][1], values[i][2]] for i in range(len(method_names))]\n",
        "    table_df = pd.DataFrame(table_data, columns=headers)\n",
        "    print(f\"\\n{function_name} Function Results:\")\n",
        "    print(tabulate(table_df, headers='keys', tablefmt='pretty', showindex=False))\n"
      ],
      "metadata": {
        "id": "uphvwe2NH9C7"
      },
      "execution_count": null,
      "outputs": []
    },
    {
      "cell_type": "markdown",
      "source": [
        "Запуск и вывод результатов для функций"
      ],
      "metadata": {
        "id": "O-VlMyTvA0Hn"
      }
    },
    {
      "cell_type": "code",
      "source": [
        "    method_names = ['Self-adaptive Differential Evolution (SADE)', 'Particle Swarm Optimization (PSO)', 'Genetic Algorithm (GA)']\n",
        "\n",
        "    sade_mat_values = run_algorithm(Matyas(), pg.sade, num_generations=100, num_trials=10)\n",
        "    pso_mat_values = run_algorithm(Matyas(), pg.pso, num_generations=100, num_trials=10)\n",
        "    ga_mat_values = run_algorithm(Matyas(), pg.gaco, num_generations=100, num_trials=10)\n",
        "    mat_values = [sade_mat_values, pso_mat_values, ga_mat_values]\n",
        "    create_table(method_names, mat_values, 'Matyas')\n",
        "\n",
        "    sade_byta_values = run_algorithm(Byta(), pg.sade, num_generations=100, num_trials=10)\n",
        "    pso_byta_values = run_algorithm(Byta(), pg.pso, num_generations=100, num_trials=10)\n",
        "    ga_byta_values = run_algorithm(Byta(), pg.gaco, num_generations=100, num_trials=10)\n",
        "    byta_values = [sade_byta_values, pso_byta_values, ga_byta_values]\n",
        "    create_table(method_names, byta_values, 'Byta')"
      ],
      "metadata": {
        "colab": {
          "base_uri": "https://localhost:8080/"
        },
        "id": "ATGiF6VaH_Oh",
        "outputId": "2bf5bf81-1b31-4fcb-9021-768b6581d2a0"
      },
      "execution_count": null,
      "outputs": [
        {
          "output_type": "stream",
          "name": "stdout",
          "text": [
            "\n",
            "Matyas Function Results:\n",
            "+---------------------------------------------+------------------------+------------------------+------------------+\n",
            "|                  Algorithm                  |           X            |           Y            |        F         |\n",
            "+---------------------------------------------+------------------------+------------------------+------------------+\n",
            "| Self-adaptive Differential Evolution (SADE) | 1.5258835136807887e-07 | -3.367244336428946e-08 | [8.97803959e-14] |\n",
            "|      Particle Swarm Optimization (PSO)      |          0.0           |          0.0           |       [0.]       |\n",
            "|           Genetic Algorithm (GA)            | 0.00021331567245697018 | 0.00025193753336776465 | [2.37483138e-07] |\n",
            "+---------------------------------------------+------------------------+------------------------+------------------+\n",
            "\n",
            "Byta Function Results:\n",
            "+---------------------------------------------+--------------------+--------------------+------------------+\n",
            "|                  Algorithm                  |         X          |         Y          |        F         |\n",
            "+---------------------------------------------+--------------------+--------------------+------------------+\n",
            "| Self-adaptive Differential Evolution (SADE) | 0.9999999851450415 | 3.000000003389154  | [9.78544815e-15] |\n",
            "|      Particle Swarm Optimization (PSO)      | 0.9999992599963894 | 3.000000555672235  | [8.29804633e-11] |\n",
            "|           Genetic Algorithm (GA)            | 0.9999086197370662 | 3.0000559712721717 | [4.62124556e-07] |\n",
            "+---------------------------------------------+--------------------+--------------------+------------------+\n"
          ]
        }
      ]
    },
    {
      "cell_type": "markdown",
      "source": [
        "#Выводы:\n",
        "\n",
        "###Matyas Function:\n",
        "\n",
        "*   **Self-adaptive Differential Evolution (SADE):** SADE смог достичь очень близкого к нулю значения функции (порядка 1e-15), что говорит о высокой эффективности в нахождении оптимума.\n",
        "*   **Particle Swarm Optimization (PSO):** PSO также достигает точного оптимума, что подтверждается нулевыми значениями для X, Y и F.\n",
        "*   **Genetic Algorithm (GA):** Генетический алгоритм показывает небольшое отклонение от точного оптимума, но ошибка все равно крайне мала (порядка 1e-7).\n",
        "\n",
        "\n",
        "###Byta Function:\n",
        "\n",
        "*   **Self-adaptive Differential Evolution (SADE):** SADE снова демонстрирует высокую точность, приближаясь к нулевым значениям для F.\n",
        "*   **Particle Swarm Optimization (PSO):** PSO также успешно приближается к оптимальному значению функции.\n",
        "*   **Genetic Algorithm (GA):** Генетический алгоритм вновь показывает некоторое отклонение от точного оптимума, но все еще достигает низкой ошибки (порядка 1e-7).\n",
        "\n",
        "---\n",
        "Таким образом, предложенные алгоритмы эффективно справляются с оптимизацией обеих функций, приближаясь к точным оптимальным значениям.\n",
        "\n",
        "\n",
        "\n",
        "\n",
        "\n",
        "\n"
      ],
      "metadata": {
        "id": "mECMC64PIYhf"
      }
    }
  ]
}